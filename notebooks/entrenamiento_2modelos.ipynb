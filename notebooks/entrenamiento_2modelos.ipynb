{
  "cells": [
    {
      "cell_type": "markdown",
      "metadata": {
        "id": "view-in-github",
        "colab_type": "text"
      },
      "source": [
        "<a href=\"https://colab.research.google.com/github/Mar-vm/VitalIA/blob/mariana/entrenamiento_2modelos.ipynb\" target=\"_parent\"><img src=\"https://colab.research.google.com/assets/colab-badge.svg\" alt=\"Open In Colab\"/></a>"
      ]
    },
    {
      "cell_type": "code",
      "execution_count": null,
      "id": "52e56f3e",
      "metadata": {
        "colab": {
          "base_uri": "https://localhost:8080/"
        },
        "id": "52e56f3e",
        "outputId": "c68cc1d8-b5b1-4dd5-e36d-93c95fa3bd7c"
      },
      "outputs": [
        {
          "output_type": "stream",
          "name": "stdout",
          "text": [
            "Mounted at /content/drive\n"
          ]
        }
      ],
      "source": [
        "\n",
        "# 📂 Montar Google Drive\n",
        "from google.colab import drive\n",
        "drive.mount('/content/drive')\n"
      ]
    },
    {
      "cell_type": "code",
      "execution_count": null,
      "id": "89619363",
      "metadata": {
        "id": "89619363"
      },
      "outputs": [],
      "source": [
        "\n",
        "# ⚙️ Configuración general\n",
        "import os\n",
        "import torch\n",
        "import torch.nn as nn\n",
        "import torch.optim as optim\n",
        "from torchvision import datasets, transforms, models\n",
        "from torch.utils.data import DataLoader, random_split\n",
        "import pandas as pd\n",
        "import matplotlib.pyplot as plt\n",
        "from tqdm import tqdm\n",
        "\n",
        "base_dir = \"/content/drive/MyDrive/skin_cancer_data2\"\n",
        "save_path_efficient = \"/content/drive/MyDrive/modelo_efficientnet_skin_cancer.pth\"\n",
        "save_path_mobilenet = \"/content/drive/MyDrive/modelo_mobilenet_skin_cancer.pth\"\n"
      ]
    },
    {
      "cell_type": "code",
      "execution_count": null,
      "id": "b6dca5ed",
      "metadata": {
        "colab": {
          "base_uri": "https://localhost:8080/"
        },
        "id": "b6dca5ed",
        "outputId": "054daa07-4c44-4ba9-f7ba-b4dc5fde475b"
      },
      "outputs": [
        {
          "output_type": "stream",
          "name": "stdout",
          "text": [
            "📚 Clases: ['akiec', 'bcc', 'bkl', 'df', 'mel', 'nv', 'vasc']\n"
          ]
        }
      ],
      "source": [
        "\n",
        "# 🔄 Transformaciones y dataset\n",
        "train_transform = transforms.Compose([\n",
        "    transforms.Resize((224, 224)),\n",
        "    transforms.RandomHorizontalFlip(),\n",
        "    transforms.RandomRotation(15),\n",
        "    transforms.ColorJitter(brightness=0.2, contrast=0.2, saturation=0.2),\n",
        "    transforms.ToTensor(),\n",
        "    transforms.Normalize(mean=[0.485, 0.456, 0.406],\n",
        "                         std=[0.229, 0.224, 0.225]),\n",
        "])\n",
        "\n",
        "val_transform = transforms.Compose([\n",
        "    transforms.Resize((224, 224)),\n",
        "    transforms.ToTensor(),\n",
        "    transforms.Normalize(mean=[0.485, 0.456, 0.406],\n",
        "                         std=[0.229, 0.224, 0.225]),\n",
        "])\n",
        "\n",
        "dataset = datasets.ImageFolder(base_dir, transform=train_transform)\n",
        "train_size = int(0.8 * len(dataset))\n",
        "val_size = len(dataset) - train_size\n",
        "train_dataset, val_dataset = random_split(dataset, [train_size, val_size])\n",
        "val_dataset.dataset.transform = val_transform\n",
        "\n",
        "train_loader = DataLoader(train_dataset, batch_size=32, shuffle=True, num_workers=2)\n",
        "val_loader = DataLoader(val_dataset, batch_size=32, shuffle=False, num_workers=2)\n",
        "\n",
        "class_names = dataset.classes\n",
        "print(f\"📚 Clases: {class_names}\")\n"
      ]
    },
    {
      "cell_type": "code",
      "execution_count": null,
      "id": "3b367abe",
      "metadata": {
        "id": "3b367abe"
      },
      "outputs": [],
      "source": [
        "\n",
        "# 🚂 Función de entrenamiento\n",
        "def entrenar_modelo(model, save_path, nombre_modelo):\n",
        "    device = torch.device(\"cuda\" if torch.cuda.is_available() else \"cpu\")\n",
        "    model = model.to(device)\n",
        "    criterion = nn.CrossEntropyLoss()\n",
        "    optimizer = optim.Adam(model.parameters(), lr=0.001)\n",
        "    scheduler = optim.lr_scheduler.StepLR(optimizer, step_size=3, gamma=0.1)\n",
        "\n",
        "    history = []\n",
        "    best_acc = 0.0\n",
        "\n",
        "    for epoch in range(5):\n",
        "        model.train()\n",
        "        running_loss = 0.0\n",
        "        correct = 0\n",
        "        total = 0\n",
        "\n",
        "        for inputs, labels in tqdm(train_loader, desc=f\"{nombre_modelo} - Época {epoch+1}/5\"):\n",
        "            inputs, labels = inputs.to(device), labels.to(device)\n",
        "            optimizer.zero_grad()\n",
        "            outputs = model(inputs)\n",
        "            loss = criterion(outputs, labels)\n",
        "            loss.backward()\n",
        "            optimizer.step()\n",
        "\n",
        "            running_loss += loss.item()\n",
        "            _, predicted = torch.max(outputs, 1)\n",
        "            total += labels.size(0)\n",
        "            correct += (predicted == labels).sum().item()\n",
        "\n",
        "        train_acc = 100 * correct / total\n",
        "\n",
        "        model.eval()\n",
        "        val_correct = 0\n",
        "        val_total = 0\n",
        "        with torch.no_grad():\n",
        "            for inputs, labels in val_loader:\n",
        "                inputs, labels = inputs.to(device), labels.to(device)\n",
        "                outputs = model(inputs)\n",
        "                _, predicted = torch.max(outputs, 1)\n",
        "                val_total += labels.size(0)\n",
        "                val_correct += (predicted == labels).sum().item()\n",
        "\n",
        "        val_acc = 100 * val_correct / val_total\n",
        "        scheduler.step()\n",
        "\n",
        "        print(f\"{nombre_modelo} -> Loss: {running_loss/len(train_loader):.4f}, Train Acc: {train_acc:.2f}%, Val Acc: {val_acc:.2f}%\")\n",
        "\n",
        "        history.append({\n",
        "            'epoch': epoch+1,\n",
        "            'train_acc': train_acc,\n",
        "            'val_acc': val_acc\n",
        "        })\n",
        "\n",
        "        if val_acc > best_acc:\n",
        "            best_acc = val_acc\n",
        "            torch.save(model.state_dict(), save_path)\n",
        "            print(f\"✅ {nombre_modelo} mejorado y guardado.\")\n",
        "\n",
        "    return pd.DataFrame(history)\n"
      ]
    },
    {
      "cell_type": "code",
      "execution_count": null,
      "id": "4536c8f6",
      "metadata": {
        "colab": {
          "base_uri": "https://localhost:8080/"
        },
        "id": "4536c8f6",
        "outputId": "4a8e447e-8b0b-4d8c-869e-8810416c9eba"
      },
      "outputs": [
        {
          "output_type": "stream",
          "name": "stderr",
          "text": [
            "/usr/local/lib/python3.11/dist-packages/torchvision/models/_utils.py:208: UserWarning: The parameter 'pretrained' is deprecated since 0.13 and may be removed in the future, please use 'weights' instead.\n",
            "  warnings.warn(\n",
            "/usr/local/lib/python3.11/dist-packages/torchvision/models/_utils.py:223: UserWarning: Arguments other than a weight enum or `None` for 'weights' are deprecated since 0.13 and may be removed in the future. The current behavior is equivalent to passing `weights=EfficientNet_B0_Weights.IMAGENET1K_V1`. You can also use `weights=EfficientNet_B0_Weights.DEFAULT` to get the most up-to-date weights.\n",
            "  warnings.warn(msg)\n",
            "Downloading: \"https://download.pytorch.org/models/efficientnet_b0_rwightman-7f5810bc.pth\" to /root/.cache/torch/hub/checkpoints/efficientnet_b0_rwightman-7f5810bc.pth\n",
            "100%|██████████| 20.5M/20.5M [00:00<00:00, 145MB/s]\n",
            "EfficientNetB0 - Época 1/5: 100%|██████████| 249/249 [35:50<00:00,  8.64s/it]\n"
          ]
        },
        {
          "output_type": "stream",
          "name": "stdout",
          "text": [
            "EfficientNetB0 -> Loss: 0.7073, Train Acc: 75.17%, Val Acc: 81.45%\n",
            "✅ EfficientNetB0 mejorado y guardado.\n"
          ]
        },
        {
          "output_type": "stream",
          "name": "stderr",
          "text": [
            "EfficientNetB0 - Época 2/5: 100%|██████████| 249/249 [37:42<00:00,  9.09s/it]\n"
          ]
        },
        {
          "output_type": "stream",
          "name": "stdout",
          "text": [
            "EfficientNetB0 -> Loss: 0.4984, Train Acc: 81.98%, Val Acc: 82.81%\n",
            "✅ EfficientNetB0 mejorado y guardado.\n"
          ]
        },
        {
          "output_type": "stream",
          "name": "stderr",
          "text": [
            "EfficientNetB0 - Época 3/5: 100%|██████████| 249/249 [37:32<00:00,  9.05s/it]\n"
          ]
        },
        {
          "output_type": "stream",
          "name": "stdout",
          "text": [
            "EfficientNetB0 -> Loss: 0.3910, Train Acc: 85.88%, Val Acc: 84.31%\n",
            "✅ EfficientNetB0 mejorado y guardado.\n"
          ]
        },
        {
          "output_type": "stream",
          "name": "stderr",
          "text": [
            "EfficientNetB0 - Época 4/5: 100%|██████████| 249/249 [37:46<00:00,  9.10s/it]\n"
          ]
        },
        {
          "output_type": "stream",
          "name": "stdout",
          "text": [
            "EfficientNetB0 -> Loss: 0.1895, Train Acc: 93.39%, Val Acc: 88.34%\n",
            "✅ EfficientNetB0 mejorado y guardado.\n"
          ]
        },
        {
          "output_type": "stream",
          "name": "stderr",
          "text": [
            "EfficientNetB0 - Época 5/5: 100%|██████████| 249/249 [38:07<00:00,  9.19s/it]\n"
          ]
        },
        {
          "output_type": "stream",
          "name": "stdout",
          "text": [
            "EfficientNetB0 -> Loss: 0.1211, Train Acc: 95.86%, Val Acc: 88.29%\n"
          ]
        }
      ],
      "source": [
        "\n",
        "# 🧠 EfficientNet\n",
        "model_efficient = models.efficientnet_b0(pretrained=True)\n",
        "model_efficient.classifier[1] = nn.Linear(model_efficient.classifier[1].in_features, len(class_names))\n",
        "\n",
        "hist_efficient = entrenar_modelo(model_efficient, save_path_efficient, \"EfficientNetB0\")\n"
      ]
    },
    {
      "cell_type": "code",
      "execution_count": null,
      "id": "ff3dae09",
      "metadata": {
        "colab": {
          "base_uri": "https://localhost:8080/"
        },
        "id": "ff3dae09",
        "outputId": "f44ccb34-06e5-4cba-fc63-98f67d1b3ce8"
      },
      "outputs": [
        {
          "output_type": "stream",
          "name": "stderr",
          "text": [
            "/usr/local/lib/python3.11/dist-packages/torchvision/models/_utils.py:223: UserWarning: Arguments other than a weight enum or `None` for 'weights' are deprecated since 0.13 and may be removed in the future. The current behavior is equivalent to passing `weights=MobileNet_V2_Weights.IMAGENET1K_V1`. You can also use `weights=MobileNet_V2_Weights.DEFAULT` to get the most up-to-date weights.\n",
            "  warnings.warn(msg)\n",
            "Downloading: \"https://download.pytorch.org/models/mobilenet_v2-b0353104.pth\" to /root/.cache/torch/hub/checkpoints/mobilenet_v2-b0353104.pth\n",
            "100%|██████████| 13.6M/13.6M [00:00<00:00, 51.8MB/s]\n",
            "MobileNetV2 - Época 1/5: 100%|██████████| 249/249 [27:46<00:00,  6.69s/it]\n"
          ]
        },
        {
          "output_type": "stream",
          "name": "stdout",
          "text": [
            "MobileNetV2 -> Loss: 0.7556, Train Acc: 72.74%, Val Acc: 77.78%\n",
            "✅ MobileNetV2 mejorado y guardado.\n"
          ]
        },
        {
          "output_type": "stream",
          "name": "stderr",
          "text": [
            "MobileNetV2 - Época 2/5: 100%|██████████| 249/249 [27:44<00:00,  6.69s/it]\n"
          ]
        },
        {
          "output_type": "stream",
          "name": "stdout",
          "text": [
            "MobileNetV2 -> Loss: 0.6205, Train Acc: 77.35%, Val Acc: 79.24%\n",
            "✅ MobileNetV2 mejorado y guardado.\n"
          ]
        },
        {
          "output_type": "stream",
          "name": "stderr",
          "text": [
            "MobileNetV2 - Época 3/5: 100%|██████████| 249/249 [27:44<00:00,  6.69s/it]\n"
          ]
        },
        {
          "output_type": "stream",
          "name": "stdout",
          "text": [
            "MobileNetV2 -> Loss: 0.5356, Train Acc: 80.50%, Val Acc: 80.09%\n",
            "✅ MobileNetV2 mejorado y guardado.\n"
          ]
        },
        {
          "output_type": "stream",
          "name": "stderr",
          "text": [
            "MobileNetV2 - Época 4/5: 100%|██████████| 249/249 [28:18<00:00,  6.82s/it]\n"
          ]
        },
        {
          "output_type": "stream",
          "name": "stdout",
          "text": [
            "MobileNetV2 -> Loss: 0.3699, Train Acc: 86.37%, Val Acc: 85.22%\n",
            "✅ MobileNetV2 mejorado y guardado.\n"
          ]
        },
        {
          "output_type": "stream",
          "name": "stderr",
          "text": [
            "MobileNetV2 - Época 5/5: 100%|██████████| 249/249 [28:00<00:00,  6.75s/it]\n"
          ]
        },
        {
          "output_type": "stream",
          "name": "stdout",
          "text": [
            "MobileNetV2 -> Loss: 0.2829, Train Acc: 89.78%, Val Acc: 85.22%\n"
          ]
        }
      ],
      "source": [
        "\n",
        "# 🧠 MobileNet\n",
        "model_mobile = models.mobilenet_v2(pretrained=True)\n",
        "model_mobile.classifier[1] = nn.Linear(model_mobile.classifier[1].in_features, len(class_names))\n",
        "\n",
        "hist_mobile = entrenar_modelo(model_mobile, save_path_mobilenet, \"MobileNetV2\")\n"
      ]
    },
    {
      "cell_type": "code",
      "execution_count": null,
      "id": "61eda3c6",
      "metadata": {
        "colab": {
          "base_uri": "https://localhost:8080/",
          "height": 319
        },
        "id": "61eda3c6",
        "outputId": "291ac12b-940a-41c2-99b9-2e15a99f78b9"
      },
      "outputs": [
        {
          "output_type": "display_data",
          "data": {
            "text/plain": [
              "<Figure size 1200x500 with 1 Axes>"
            ],
            "image/png": "[encoded data removed]"
          },
          "metadata": {}
        }
      ],
      "source": [
        "\n",
        "# 📊 Comparación de desempeño\n",
        "plt.figure(figsize=(12, 5))\n",
        "plt.plot(hist_efficient['epoch'], hist_efficient['val_acc'], label='EfficientNet Val Acc')\n",
        "plt.plot(hist_mobile['epoch'], hist_mobile['val_acc'], label='MobileNet Val Acc')\n",
        "plt.title('Precisión en validación por época')\n",
        "plt.xlabel('Época')\n",
        "plt.ylabel('Accuracy (%)')\n",
        "plt.legend()\n",
        "plt.grid(True)\n",
        "plt.show()\n"
      ]
    },
    {
      "cell_type": "code",
      "source": [
        "torch.save(model_mobile.state_dict(), \"/content/drive/MyDrive/modelo_mobilenet_skin_cancer.pth\")\n"
      ],
      "metadata": {
        "id": "RB3Xdxb5T7pT"
      },
      "id": "RB3Xdxb5T7pT",
      "execution_count": null,
      "outputs": []
    },
    {
      "cell_type": "code",
      "source": [
        "# Verifica si el archivo está presente\n",
        "!ls -lh /content/drive/MyDrive/modelo_mobilenet_skin_cancer.pth\n"
      ],
      "metadata": {
        "colab": {
          "base_uri": "https://localhost:8080/"
        },
        "id": "u-jpYNXRTul3",
        "outputId": "c1e1bf75-83bd-43fa-e146-95d67dd8825e"
      },
      "id": "u-jpYNXRTul3",
      "execution_count": null,
      "outputs": [
        {
          "output_type": "stream",
          "name": "stdout",
          "text": [
            "-rw------- 1 root root 8.8M Apr  7 03:33 /content/drive/MyDrive/modelo_mobilenet_skin_cancer.pth\n"
          ]
        }
      ]
    },
    {
      "cell_type": "code",
      "source": [
        "# 💾 Guardar modelo EfficientNet entrenado en Google Drive\n",
        "torch.save(model_efficient.state_dict(), \"/content/drive/MyDrive/modelo_efficientnet_skin_cancer.pth\")\n",
        "\n"
      ],
      "metadata": {
        "id": "nweWm1YAUCCJ"
      },
      "id": "nweWm1YAUCCJ",
      "execution_count": null,
      "outputs": []
    },
    {
      "cell_type": "code",
      "source": [
        "!ls -lh /content/drive/MyDrive/*.pth\n"
      ],
      "metadata": {
        "colab": {
          "base_uri": "https://localhost:8080/"
        },
        "id": "bmWUCIoiUHFk",
        "outputId": "ab2c69d0-afa0-41cc-babb-954233bf4065"
      },
      "id": "bmWUCIoiUHFk",
      "execution_count": null,
      "outputs": [
        {
          "output_type": "stream",
          "name": "stdout",
          "text": [
            "-rw------- 1 root root  16M Apr  7 03:34 /content/drive/MyDrive/modelo_efficientnet_skin_cancer.pth\n",
            "-rw------- 1 root root 8.8M Apr  7 03:33 /content/drive/MyDrive/modelo_mobilenet_skin_cancer.pth\n"
          ]
        }
      ]
    },
    {
      "cell_type": "code",
      "source": [
        "# ✅ Obtener clases desde el dataset\n",
        "class_names = dataset.classes\n",
        "print(\"Clases:\", class_names)\n"
      ],
      "metadata": {
        "colab": {
          "base_uri": "https://localhost:8080/"
        },
        "id": "AZKrXsgjVIhF",
        "outputId": "8fd07413-9258-45e2-edf9-a5ec5454943c"
      },
      "id": "AZKrXsgjVIhF",
      "execution_count": null,
      "outputs": [
        {
          "output_type": "stream",
          "name": "stdout",
          "text": [
            "Clases: ['akiec', 'bcc', 'bkl', 'df', 'mel', 'nv', 'vasc']\n"
          ]
        }
      ]
    },
    {
      "cell_type": "code",
      "source": [
        "# 💾 Guardar clases como archivo JSON en Drive\n",
        "import json\n",
        "\n",
        "clases_path = \"/content/drive/MyDrive/skin_cancer_clases.json\"\n",
        "with open(clases_path, \"w\") as f:\n",
        "    json.dump(class_names, f)\n",
        "\n",
        "print(\"✅ Clases guardadas en:\", clases_path)\n"
      ],
      "metadata": {
        "colab": {
          "base_uri": "https://localhost:8080/"
        },
        "id": "7mFHIX9-VLuW",
        "outputId": "6ce95398-00bf-484c-8231-f30c36815e3a"
      },
      "id": "7mFHIX9-VLuW",
      "execution_count": null,
      "outputs": [
        {
          "output_type": "stream",
          "name": "stdout",
          "text": [
            "✅ Clases guardadas en: /content/drive/MyDrive/skin_cancer_clases.json\n"
          ]
        }
      ]
    },
    {
      "cell_type": "code",
      "source": [
        "# Verifica si el archivo está presente\n",
        "!ls -lh /content/drive/MyDrive/skin_cancer_clases.json"
      ],
      "metadata": {
        "id": "lOWY_wVfVQ6H",
        "outputId": "61c4a91a-c0d5-459f-f372-bff310005587",
        "colab": {
          "base_uri": "https://localhost:8080/"
        }
      },
      "id": "lOWY_wVfVQ6H",
      "execution_count": null,
      "outputs": [
        {
          "output_type": "stream",
          "name": "stdout",
          "text": [
            "-rw------- 1 root root 50 Apr  7 03:39 /content/drive/MyDrive/skin_cancer_clases.json\n"
          ]
        }
      ]
    }
  ],
  "metadata": {
    "colab": {
      "provenance": [],
      "include_colab_link": true
    },
    "language_info": {
      "name": "python"
    },
    "kernelspec": {
      "name": "python3",
      "display_name": "Python 3"
    }
  },
  "nbformat": 4,
  "nbformat_minor": 5
}
