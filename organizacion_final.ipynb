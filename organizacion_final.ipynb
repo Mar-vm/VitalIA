{
  "cells": [
    {
      "cell_type": "markdown",
      "metadata": {
        "id": "view-in-github",
        "colab_type": "text"
      },
      "source": [
        "<a href=\"https://colab.research.google.com/github/Mar-vm/VitalIA/blob/mariana/organizacion_final.ipynb\" target=\"_parent\"><img src=\"https://colab.research.google.com/assets/colab-badge.svg\" alt=\"Open In Colab\"/></a>"
      ]
    },
    {
      "cell_type": "code",
      "execution_count": null,
      "id": "b4fe290c",
      "metadata": {
        "colab": {
          "base_uri": "https://localhost:8080/"
        },
        "id": "b4fe290c",
        "outputId": "3885e681-e285-4681-9e76-397562799349"
      },
      "outputs": [
        {
          "output_type": "stream",
          "name": "stdout",
          "text": [
            "📂 Carpeta base creada en: /content/drive/MyDrive/skin_cancer_data2\n"
          ]
        }
      ],
      "source": [
        "\n",
        "# 📁 Crear carpeta base en Drive\n",
        "import os\n",
        "import zipfile\n",
        "import shutil\n",
        "import pandas as pd\n",
        "\n",
        "base_dir = \"/content/drive/MyDrive/skin_cancer_data2\"\n",
        "os.makedirs(base_dir, exist_ok=True)\n",
        "print(f\"📂 Carpeta base creada en: {base_dir}\")\n"
      ]
    },
    {
      "cell_type": "code",
      "source": [
        "from google.colab import drive\n",
        "drive.mount('/content/drive')\n"
      ],
      "metadata": {
        "colab": {
          "base_uri": "https://localhost:8080/"
        },
        "id": "6ib7R_3Gr5XE",
        "outputId": "5c7ea734-bb77-457a-8498-0c715f4cffeb"
      },
      "id": "6ib7R_3Gr5XE",
      "execution_count": null,
      "outputs": [
        {
          "output_type": "stream",
          "name": "stdout",
          "text": [
            "Drive already mounted at /content/drive; to attempt to forcibly remount, call drive.mount(\"/content/drive\", force_remount=True).\n"
          ]
        }
      ]
    },
    {
      "cell_type": "code",
      "execution_count": null,
      "id": "84c8f8c9",
      "metadata": {
        "colab": {
          "base_uri": "https://localhost:8080/",
          "height": 110
        },
        "id": "84c8f8c9",
        "outputId": "31b961cd-9ed3-489b-b25c-5ce989174c65"
      },
      "outputs": [
        {
          "output_type": "display_data",
          "data": {
            "text/plain": [
              "<IPython.core.display.HTML object>"
            ],
            "text/html": [
              "\n",
              "     <input type=\"file\" id=\"files-ac392e36-0a71-47f8-a35a-ed173863af1d\" name=\"files[]\" multiple disabled\n",
              "        style=\"border:none\" />\n",
              "     <output id=\"result-ac392e36-0a71-47f8-a35a-ed173863af1d\">\n",
              "      Upload widget is only available when the cell has been executed in the\n",
              "      current browser session. Please rerun this cell to enable.\n",
              "      </output>\n",
              "      <script>// Copyright 2017 Google LLC\n",
              "//\n",
              "// Licensed under the Apache License, Version 2.0 (the \"License\");\n",
              "// you may not use this file except in compliance with the License.\n",
              "// You may obtain a copy of the License at\n",
              "//\n",
              "//      http://www.apache.org/licenses/LICENSE-2.0\n",
              "//\n",
              "// Unless required by applicable law or agreed to in writing, software\n",
              "// distributed under the License is distributed on an \"AS IS\" BASIS,\n",
              "// WITHOUT WARRANTIES OR CONDITIONS OF ANY KIND, either express or implied.\n",
              "// See the License for the specific language governing permissions and\n",
              "// limitations under the License.\n",
              "\n",
              "/**\n",
              " * @fileoverview Helpers for google.colab Python module.\n",
              " */\n",
              "(function(scope) {\n",
              "function span(text, styleAttributes = {}) {\n",
              "  const element = document.createElement('span');\n",
              "  element.textContent = text;\n",
              "  for (const key of Object.keys(styleAttributes)) {\n",
              "    element.style[key] = styleAttributes[key];\n",
              "  }\n",
              "  return element;\n",
              "}\n",
              "\n",
              "// Max number of bytes which will be uploaded at a time.\n",
              "const MAX_PAYLOAD_SIZE = 100 * 1024;\n",
              "\n",
              "function _uploadFiles(inputId, outputId) {\n",
              "  const steps = uploadFilesStep(inputId, outputId);\n",
              "  const outputElement = document.getElementById(outputId);\n",
              "  // Cache steps on the outputElement to make it available for the next call\n",
              "  // to uploadFilesContinue from Python.\n",
              "  outputElement.steps = steps;\n",
              "\n",
              "  return _uploadFilesContinue(outputId);\n",
              "}\n",
              "\n",
              "// This is roughly an async generator (not supported in the browser yet),\n",
              "// where there are multiple asynchronous steps and the Python side is going\n",
              "// to poll for completion of each step.\n",
              "// This uses a Promise to block the python side on completion of each step,\n",
              "// then passes the result of the previous step as the input to the next step.\n",
              "function _uploadFilesContinue(outputId) {\n",
              "  const outputElement = document.getElementById(outputId);\n",
              "  const steps = outputElement.steps;\n",
              "\n",
              "  const next = steps.next(outputElement.lastPromiseValue);\n",
              "  return Promise.resolve(next.value.promise).then((value) => {\n",
              "    // Cache the last promise value to make it available to the next\n",
              "    // step of the generator.\n",
              "    outputElement.lastPromiseValue = value;\n",
              "    return next.value.response;\n",
              "  });\n",
              "}\n",
              "\n",
              "/**\n",
              " * Generator function which is called between each async step of the upload\n",
              " * process.\n",
              " * @param {string} inputId Element ID of the input file picker element.\n",
              " * @param {string} outputId Element ID of the output display.\n",
              " * @return {!Iterable<!Object>} Iterable of next steps.\n",
              " */\n",
              "function* uploadFilesStep(inputId, outputId) {\n",
              "  const inputElement = document.getElementById(inputId);\n",
              "  inputElement.disabled = false;\n",
              "\n",
              "  const outputElement = document.getElementById(outputId);\n",
              "  outputElement.innerHTML = '';\n",
              "\n",
              "  const pickedPromise = new Promise((resolve) => {\n",
              "    inputElement.addEventListener('change', (e) => {\n",
              "      resolve(e.target.files);\n",
              "    });\n",
              "  });\n",
              "\n",
              "  const cancel = document.createElement('button');\n",
              "  inputElement.parentElement.appendChild(cancel);\n",
              "  cancel.textContent = 'Cancel upload';\n",
              "  const cancelPromise = new Promise((resolve) => {\n",
              "    cancel.onclick = () => {\n",
              "      resolve(null);\n",
              "    };\n",
              "  });\n",
              "\n",
              "  // Wait for the user to pick the files.\n",
              "  const files = yield {\n",
              "    promise: Promise.race([pickedPromise, cancelPromise]),\n",
              "    response: {\n",
              "      action: 'starting',\n",
              "    }\n",
              "  };\n",
              "\n",
              "  cancel.remove();\n",
              "\n",
              "  // Disable the input element since further picks are not allowed.\n",
              "  inputElement.disabled = true;\n",
              "\n",
              "  if (!files) {\n",
              "    return {\n",
              "      response: {\n",
              "        action: 'complete',\n",
              "      }\n",
              "    };\n",
              "  }\n",
              "\n",
              "  for (const file of files) {\n",
              "    const li = document.createElement('li');\n",
              "    li.append(span(file.name, {fontWeight: 'bold'}));\n",
              "    li.append(span(\n",
              "        `(${file.type || 'n/a'}) - ${file.size} bytes, ` +\n",
              "        `last modified: ${\n",
              "            file.lastModifiedDate ? file.lastModifiedDate.toLocaleDateString() :\n",
              "                                    'n/a'} - `));\n",
              "    const percent = span('0% done');\n",
              "    li.appendChild(percent);\n",
              "\n",
              "    outputElement.appendChild(li);\n",
              "\n",
              "    const fileDataPromise = new Promise((resolve) => {\n",
              "      const reader = new FileReader();\n",
              "      reader.onload = (e) => {\n",
              "        resolve(e.target.result);\n",
              "      };\n",
              "      reader.readAsArrayBuffer(file);\n",
              "    });\n",
              "    // Wait for the data to be ready.\n",
              "    let fileData = yield {\n",
              "      promise: fileDataPromise,\n",
              "      response: {\n",
              "        action: 'continue',\n",
              "      }\n",
              "    };\n",
              "\n",
              "    // Use a chunked sending to avoid message size limits. See b/62115660.\n",
              "    let position = 0;\n",
              "    do {\n",
              "      const length = Math.min(fileData.byteLength - position, MAX_PAYLOAD_SIZE);\n",
              "      const chunk = new Uint8Array(fileData, position, length);\n",
              "      position += length;\n",
              "\n",
              "      const base64 = btoa(String.fromCharCode.apply(null, chunk));\n",
              "      yield {\n",
              "        response: {\n",
              "          action: 'append',\n",
              "          file: file.name,\n",
              "          data: base64,\n",
              "        },\n",
              "      };\n",
              "\n",
              "      let percentDone = fileData.byteLength === 0 ?\n",
              "          100 :\n",
              "          Math.round((position / fileData.byteLength) * 100);\n",
              "      percent.textContent = `${percentDone}% done`;\n",
              "\n",
              "    } while (position < fileData.byteLength);\n",
              "  }\n",
              "\n",
              "  // All done.\n",
              "  yield {\n",
              "    response: {\n",
              "      action: 'complete',\n",
              "    }\n",
              "  };\n",
              "}\n",
              "\n",
              "scope.google = scope.google || {};\n",
              "scope.google.colab = scope.google.colab || {};\n",
              "scope.google.colab._files = {\n",
              "  _uploadFiles,\n",
              "  _uploadFilesContinue,\n",
              "};\n",
              "})(self);\n",
              "</script> "
            ]
          },
          "metadata": {}
        },
        {
          "output_type": "stream",
          "name": "stdout",
          "text": [
            "Saving kaggle.json to kaggle (1).json\n"
          ]
        },
        {
          "output_type": "execute_result",
          "data": {
            "text/plain": [
              "{'kaggle (1).json': b'{\"username\":\"marianamolina0\",\"key\":\"1d0ceada75bcd3a341a72b379b758357\"}'}"
            ]
          },
          "metadata": {},
          "execution_count": 21
        }
      ],
      "source": [
        "\n",
        "# 🔐 Subir kaggle.json para acceder al dataset\n",
        "from google.colab import files\n",
        "files.upload()  # Sube tu archivo kaggle.json\n"
      ]
    },
    {
      "cell_type": "code",
      "execution_count": null,
      "id": "904671db",
      "metadata": {
        "colab": {
          "base_uri": "https://localhost:8080/"
        },
        "id": "904671db",
        "outputId": "1849a0d3-ecfb-4537-ddde-320cc7364da9"
      },
      "outputs": [
        {
          "output_type": "stream",
          "name": "stdout",
          "text": [
            "Dataset URL: https://www.kaggle.com/datasets/kmader/skin-cancer-mnist-ham10000\n",
            "License(s): CC-BY-NC-SA-4.0\n",
            "skin-cancer-mnist-ham10000.zip: Skipping, found more recently modified local copy (use --force to force download)\n"
          ]
        }
      ],
      "source": [
        "\n",
        "# 📦 Descargar dataset desde Kaggle\n",
        "!pip install -q kaggle\n",
        "import os\n",
        "os.environ['KAGGLE_CONFIG_DIR'] = \"/content\"\n",
        "!chmod 600 /content/kaggle.json\n",
        "!kaggle datasets download -d kmader/skin-cancer-mnist-ham10000\n"
      ]
    },
    {
      "cell_type": "code",
      "execution_count": null,
      "id": "62e8d4db",
      "metadata": {
        "colab": {
          "base_uri": "https://localhost:8080/"
        },
        "id": "62e8d4db",
        "outputId": "1fb0e5e6-cc41-4fad-9556-93e5a34e4e52"
      },
      "outputs": [
        {
          "output_type": "stream",
          "name": "stdout",
          "text": [
            "✅ CSV cargado. Clases: ['bkl' 'nv' 'df' 'mel' 'vasc' 'bcc' 'akiec']\n"
          ]
        }
      ],
      "source": [
        "\n",
        "# 📂 Leer CSV desde el ZIP\n",
        "with zipfile.ZipFile(\"skin-cancer-mnist-ham10000.zip\", 'r') as zip_ref:\n",
        "    with zip_ref.open(\"HAM10000_metadata.csv\") as f:\n",
        "        df = pd.read_csv(f)\n",
        "    zip_ref.extractall(\"/content\")\n",
        "\n",
        "print(\"✅ CSV cargado. Clases:\", df['dx'].unique())\n"
      ]
    },
    {
      "cell_type": "code",
      "execution_count": null,
      "id": "720499a2",
      "metadata": {
        "colab": {
          "base_uri": "https://localhost:8080/"
        },
        "id": "720499a2",
        "outputId": "36b20c2c-187d-41e1-c487-f709505acb13"
      },
      "outputs": [
        {
          "output_type": "stream",
          "name": "stdout",
          "text": [
            "Moviendo imágenes desde: /content/HAM10000_images_part_1\n",
            "Moviendo imágenes desde: /content/HAM10000_images_part_2\n",
            "✅ Imágenes movidas a carpeta en Drive.\n"
          ]
        }
      ],
      "source": [
        "\n",
        "# 🚚 Mover imágenes desde /content hacia carpeta en Drive\n",
        "for part_dir in [\"/content/HAM10000_images_part_1\", \"/content/HAM10000_images_part_2\"]:\n",
        "    if os.path.exists(part_dir):\n",
        "        print(f\"Moviendo imágenes desde: {part_dir}\")\n",
        "        for fname in os.listdir(part_dir):\n",
        "            shutil.move(os.path.join(part_dir, fname), os.path.join(base_dir, fname))\n",
        "        shutil.rmtree(part_dir)\n",
        "\n",
        "print(\"✅ Imágenes movidas a carpeta en Drive.\")\n"
      ]
    },
    {
      "cell_type": "code",
      "execution_count": null,
      "id": "fb80570b",
      "metadata": {
        "colab": {
          "base_uri": "https://localhost:8080/"
        },
        "id": "fb80570b",
        "outputId": "7e362581-9aa2-4c4c-be87-a80b4e7aab92"
      },
      "outputs": [
        {
          "output_type": "stream",
          "name": "stdout",
          "text": [
            "📂 Carpetas por clase creadas.\n"
          ]
        }
      ],
      "source": [
        "\n",
        "# 🏷️ Crear carpetas por clase médica\n",
        "for class_name in df['dx'].unique():\n",
        "    class_folder = os.path.join(base_dir, class_name)\n",
        "    os.makedirs(class_folder, exist_ok=True)\n",
        "print(\"📂 Carpetas por clase creadas.\")\n"
      ]
    },
    {
      "cell_type": "code",
      "execution_count": null,
      "id": "b96a8f73",
      "metadata": {
        "colab": {
          "base_uri": "https://localhost:8080/"
        },
        "id": "b96a8f73",
        "outputId": "5f12c84e-fdfc-453d-9d1e-134425db3bdb"
      },
      "outputs": [
        {
          "output_type": "stream",
          "name": "stdout",
          "text": [
            "✅ Se movieron 0 imágenes a sus carpetas por clase.\n"
          ]
        }
      ],
      "source": [
        "\n",
        "# 📤 Mover imágenes a carpetas por clase\n",
        "moved = 0\n",
        "for _, row in df.iterrows():\n",
        "    image_file = row['image_id'] + \".jpg\"\n",
        "    src = os.path.join(base_dir, image_file)\n",
        "    dst = os.path.join(base_dir, row['dx'], image_file)\n",
        "    if os.path.exists(src):\n",
        "        shutil.move(src, dst)\n",
        "        moved += 1\n",
        "\n",
        "print(f\"✅ Se movieron {moved} imágenes a sus carpetas por clase.\")\n"
      ]
    },
    {
      "cell_type": "code",
      "execution_count": null,
      "id": "703f15a9",
      "metadata": {
        "colab": {
          "base_uri": "https://localhost:8080/"
        },
        "id": "703f15a9",
        "outputId": "65aaf889-b4cd-4633-b45a-1680e923695d"
      },
      "outputs": [
        {
          "output_type": "stream",
          "name": "stdout",
          "text": [
            "akiec: 0 imágenes\n",
            "bcc: 0 imágenes\n",
            "bkl: 0 imágenes\n",
            "df: 0 imágenes\n",
            "mel: 0 imágenes\n",
            "nv: 0 imágenes\n",
            "vasc: 0 imágenes\n"
          ]
        }
      ],
      "source": [
        "\n",
        "# 📊 Verificar organización final\n",
        "for folder in sorted(os.listdir(base_dir)):\n",
        "    folder_path = os.path.join(base_dir, folder)\n",
        "    if os.path.isdir(folder_path):\n",
        "        print(f\"{folder}: {len(os.listdir(folder_path))} imágenes\")\n"
      ]
    },
    {
      "cell_type": "markdown",
      "source": [
        "CORREGIDOOOO"
      ],
      "metadata": {
        "id": "K0Vbrnl7uJ32"
      },
      "id": "K0Vbrnl7uJ32"
    },
    {
      "cell_type": "code",
      "source": [
        "# 📁 Crear carpeta base en Drive\n",
        "import os\n",
        "import zipfile\n",
        "import shutil\n",
        "import pandas as pd\n",
        "\n",
        "base_dir = \"/content/drive/MyDrive/skin_cancer_data2\"\n",
        "os.makedirs(base_dir, exist_ok=True)\n",
        "print(f\"📂 Carpeta base creada en: {base_dir}\")"
      ],
      "metadata": {
        "colab": {
          "base_uri": "https://localhost:8080/"
        },
        "id": "ENjFMT9fuLEf",
        "outputId": "0a80bba3-a41d-4456-9c80-f7cad9c455a0"
      },
      "id": "ENjFMT9fuLEf",
      "execution_count": null,
      "outputs": [
        {
          "output_type": "stream",
          "name": "stdout",
          "text": [
            "📂 Carpeta base creada en: /content/drive/MyDrive/skin_cancer_data2\n"
          ]
        }
      ]
    },
    {
      "cell_type": "code",
      "source": [
        "# 🔐 Subir kaggle.json para acceder al dataset\n",
        "from google.colab import files\n",
        "files.upload()  # Sube tu archivo kaggle.json aquí\n"
      ],
      "metadata": {
        "colab": {
          "base_uri": "https://localhost:8080/",
          "height": 110
        },
        "id": "FXJjspFMuOCb",
        "outputId": "7ce215cf-8127-4575-f6f7-9c7ea7bb8779"
      },
      "id": "FXJjspFMuOCb",
      "execution_count": null,
      "outputs": [
        {
          "output_type": "display_data",
          "data": {
            "text/plain": [
              "<IPython.core.display.HTML object>"
            ],
            "text/html": [
              "\n",
              "     <input type=\"file\" id=\"files-ffb0d2f9-16da-4ed1-849a-bda775c8d433\" name=\"files[]\" multiple disabled\n",
              "        style=\"border:none\" />\n",
              "     <output id=\"result-ffb0d2f9-16da-4ed1-849a-bda775c8d433\">\n",
              "      Upload widget is only available when the cell has been executed in the\n",
              "      current browser session. Please rerun this cell to enable.\n",
              "      </output>\n",
              "      <script>// Copyright 2017 Google LLC\n",
              "//\n",
              "// Licensed under the Apache License, Version 2.0 (the \"License\");\n",
              "// you may not use this file except in compliance with the License.\n",
              "// You may obtain a copy of the License at\n",
              "//\n",
              "//      http://www.apache.org/licenses/LICENSE-2.0\n",
              "//\n",
              "// Unless required by applicable law or agreed to in writing, software\n",
              "// distributed under the License is distributed on an \"AS IS\" BASIS,\n",
              "// WITHOUT WARRANTIES OR CONDITIONS OF ANY KIND, either express or implied.\n",
              "// See the License for the specific language governing permissions and\n",
              "// limitations under the License.\n",
              "\n",
              "/**\n",
              " * @fileoverview Helpers for google.colab Python module.\n",
              " */\n",
              "(function(scope) {\n",
              "function span(text, styleAttributes = {}) {\n",
              "  const element = document.createElement('span');\n",
              "  element.textContent = text;\n",
              "  for (const key of Object.keys(styleAttributes)) {\n",
              "    element.style[key] = styleAttributes[key];\n",
              "  }\n",
              "  return element;\n",
              "}\n",
              "\n",
              "// Max number of bytes which will be uploaded at a time.\n",
              "const MAX_PAYLOAD_SIZE = 100 * 1024;\n",
              "\n",
              "function _uploadFiles(inputId, outputId) {\n",
              "  const steps = uploadFilesStep(inputId, outputId);\n",
              "  const outputElement = document.getElementById(outputId);\n",
              "  // Cache steps on the outputElement to make it available for the next call\n",
              "  // to uploadFilesContinue from Python.\n",
              "  outputElement.steps = steps;\n",
              "\n",
              "  return _uploadFilesContinue(outputId);\n",
              "}\n",
              "\n",
              "// This is roughly an async generator (not supported in the browser yet),\n",
              "// where there are multiple asynchronous steps and the Python side is going\n",
              "// to poll for completion of each step.\n",
              "// This uses a Promise to block the python side on completion of each step,\n",
              "// then passes the result of the previous step as the input to the next step.\n",
              "function _uploadFilesContinue(outputId) {\n",
              "  const outputElement = document.getElementById(outputId);\n",
              "  const steps = outputElement.steps;\n",
              "\n",
              "  const next = steps.next(outputElement.lastPromiseValue);\n",
              "  return Promise.resolve(next.value.promise).then((value) => {\n",
              "    // Cache the last promise value to make it available to the next\n",
              "    // step of the generator.\n",
              "    outputElement.lastPromiseValue = value;\n",
              "    return next.value.response;\n",
              "  });\n",
              "}\n",
              "\n",
              "/**\n",
              " * Generator function which is called between each async step of the upload\n",
              " * process.\n",
              " * @param {string} inputId Element ID of the input file picker element.\n",
              " * @param {string} outputId Element ID of the output display.\n",
              " * @return {!Iterable<!Object>} Iterable of next steps.\n",
              " */\n",
              "function* uploadFilesStep(inputId, outputId) {\n",
              "  const inputElement = document.getElementById(inputId);\n",
              "  inputElement.disabled = false;\n",
              "\n",
              "  const outputElement = document.getElementById(outputId);\n",
              "  outputElement.innerHTML = '';\n",
              "\n",
              "  const pickedPromise = new Promise((resolve) => {\n",
              "    inputElement.addEventListener('change', (e) => {\n",
              "      resolve(e.target.files);\n",
              "    });\n",
              "  });\n",
              "\n",
              "  const cancel = document.createElement('button');\n",
              "  inputElement.parentElement.appendChild(cancel);\n",
              "  cancel.textContent = 'Cancel upload';\n",
              "  const cancelPromise = new Promise((resolve) => {\n",
              "    cancel.onclick = () => {\n",
              "      resolve(null);\n",
              "    };\n",
              "  });\n",
              "\n",
              "  // Wait for the user to pick the files.\n",
              "  const files = yield {\n",
              "    promise: Promise.race([pickedPromise, cancelPromise]),\n",
              "    response: {\n",
              "      action: 'starting',\n",
              "    }\n",
              "  };\n",
              "\n",
              "  cancel.remove();\n",
              "\n",
              "  // Disable the input element since further picks are not allowed.\n",
              "  inputElement.disabled = true;\n",
              "\n",
              "  if (!files) {\n",
              "    return {\n",
              "      response: {\n",
              "        action: 'complete',\n",
              "      }\n",
              "    };\n",
              "  }\n",
              "\n",
              "  for (const file of files) {\n",
              "    const li = document.createElement('li');\n",
              "    li.append(span(file.name, {fontWeight: 'bold'}));\n",
              "    li.append(span(\n",
              "        `(${file.type || 'n/a'}) - ${file.size} bytes, ` +\n",
              "        `last modified: ${\n",
              "            file.lastModifiedDate ? file.lastModifiedDate.toLocaleDateString() :\n",
              "                                    'n/a'} - `));\n",
              "    const percent = span('0% done');\n",
              "    li.appendChild(percent);\n",
              "\n",
              "    outputElement.appendChild(li);\n",
              "\n",
              "    const fileDataPromise = new Promise((resolve) => {\n",
              "      const reader = new FileReader();\n",
              "      reader.onload = (e) => {\n",
              "        resolve(e.target.result);\n",
              "      };\n",
              "      reader.readAsArrayBuffer(file);\n",
              "    });\n",
              "    // Wait for the data to be ready.\n",
              "    let fileData = yield {\n",
              "      promise: fileDataPromise,\n",
              "      response: {\n",
              "        action: 'continue',\n",
              "      }\n",
              "    };\n",
              "\n",
              "    // Use a chunked sending to avoid message size limits. See b/62115660.\n",
              "    let position = 0;\n",
              "    do {\n",
              "      const length = Math.min(fileData.byteLength - position, MAX_PAYLOAD_SIZE);\n",
              "      const chunk = new Uint8Array(fileData, position, length);\n",
              "      position += length;\n",
              "\n",
              "      const base64 = btoa(String.fromCharCode.apply(null, chunk));\n",
              "      yield {\n",
              "        response: {\n",
              "          action: 'append',\n",
              "          file: file.name,\n",
              "          data: base64,\n",
              "        },\n",
              "      };\n",
              "\n",
              "      let percentDone = fileData.byteLength === 0 ?\n",
              "          100 :\n",
              "          Math.round((position / fileData.byteLength) * 100);\n",
              "      percent.textContent = `${percentDone}% done`;\n",
              "\n",
              "    } while (position < fileData.byteLength);\n",
              "  }\n",
              "\n",
              "  // All done.\n",
              "  yield {\n",
              "    response: {\n",
              "      action: 'complete',\n",
              "    }\n",
              "  };\n",
              "}\n",
              "\n",
              "scope.google = scope.google || {};\n",
              "scope.google.colab = scope.google.colab || {};\n",
              "scope.google.colab._files = {\n",
              "  _uploadFiles,\n",
              "  _uploadFilesContinue,\n",
              "};\n",
              "})(self);\n",
              "</script> "
            ]
          },
          "metadata": {}
        },
        {
          "output_type": "stream",
          "name": "stdout",
          "text": [
            "Saving kaggle.json to kaggle (2).json\n"
          ]
        },
        {
          "output_type": "execute_result",
          "data": {
            "text/plain": [
              "{'kaggle (2).json': b'{\"username\":\"marianamolina0\",\"key\":\"1d0ceada75bcd3a341a72b379b758357\"}'}"
            ]
          },
          "metadata": {},
          "execution_count": 28
        }
      ]
    },
    {
      "cell_type": "code",
      "source": [
        "# 📦 Descargar dataset desde Kaggle\n",
        "!pip install -q kaggle\n",
        "os.environ['KAGGLE_CONFIG_DIR'] = \"/content\"\n",
        "!chmod 600 /content/kaggle.json\n",
        "!kaggle datasets download -d kmader/skin-cancer-mnist-ham10000\n"
      ],
      "metadata": {
        "colab": {
          "base_uri": "https://localhost:8080/"
        },
        "id": "a1a717lauUZd",
        "outputId": "f86ded4d-26aa-4296-b50b-ac7ae05f3d88"
      },
      "id": "a1a717lauUZd",
      "execution_count": null,
      "outputs": [
        {
          "output_type": "stream",
          "name": "stdout",
          "text": [
            "Dataset URL: https://www.kaggle.com/datasets/kmader/skin-cancer-mnist-ham10000\n",
            "License(s): CC-BY-NC-SA-4.0\n",
            "skin-cancer-mnist-ham10000.zip: Skipping, found more recently modified local copy (use --force to force download)\n"
          ]
        }
      ]
    },
    {
      "cell_type": "code",
      "source": [
        "# 📂 Leer CSV y extraer imágenes (corrección: extraer en /content)\n",
        "with zipfile.ZipFile(\"skin-cancer-mnist-ham10000.zip\", 'r') as zip_ref:\n",
        "    with zip_ref.open(\"HAM10000_metadata.csv\") as f:\n",
        "        df = pd.read_csv(f)\n",
        "    zip_ref.extractall(\"/content\")  # ✅ CORRECTO: extrae a local\n",
        "\n",
        "print(\"✅ CSV cargado. Clases únicas:\", df['dx'].unique())\n"
      ],
      "metadata": {
        "colab": {
          "base_uri": "https://localhost:8080/"
        },
        "id": "vtXFdZCbuWWZ",
        "outputId": "a6e06248-3de9-4e6b-95fb-8d06bbfa711b"
      },
      "id": "vtXFdZCbuWWZ",
      "execution_count": null,
      "outputs": [
        {
          "output_type": "stream",
          "name": "stdout",
          "text": [
            "✅ CSV cargado. Clases únicas: ['bkl' 'nv' 'df' 'mel' 'vasc' 'bcc' 'akiec']\n"
          ]
        }
      ]
    },
    {
      "cell_type": "code",
      "source": [
        "# 🚚 Mover imágenes desde /content hacia carpeta en Drive\n",
        "for part_dir in [\"/content/HAM10000_images_part_1\", \"/content/HAM10000_images_part_2\"]:\n",
        "    if os.path.exists(part_dir):\n",
        "        print(f\"Moviendo imágenes desde: {part_dir}\")\n",
        "        for fname in os.listdir(part_dir):\n",
        "            shutil.move(os.path.join(part_dir, fname), os.path.join(base_dir, fname))\n",
        "        shutil.rmtree(part_dir)\n",
        "\n",
        "print(\"✅ Imágenes movidas a carpeta en Drive.\")\n"
      ],
      "metadata": {
        "colab": {
          "base_uri": "https://localhost:8080/"
        },
        "id": "dLaueNEouYeO",
        "outputId": "b2ac4173-f5da-4030-99f6-3b27e13f99d2"
      },
      "id": "dLaueNEouYeO",
      "execution_count": null,
      "outputs": [
        {
          "output_type": "stream",
          "name": "stdout",
          "text": [
            "Moviendo imágenes desde: /content/HAM10000_images_part_1\n",
            "Moviendo imágenes desde: /content/HAM10000_images_part_2\n",
            "✅ Imágenes movidas a carpeta en Drive.\n"
          ]
        }
      ]
    },
    {
      "cell_type": "code",
      "source": [
        "# 🏷️ Crear carpetas por clase médica\n",
        "for class_name in df['dx'].unique():\n",
        "    class_folder = os.path.join(base_dir, class_name)\n",
        "    os.makedirs(class_folder, exist_ok=True)\n",
        "print(\"📂 Carpetas por clase creadas.\")\n"
      ],
      "metadata": {
        "colab": {
          "base_uri": "https://localhost:8080/"
        },
        "id": "vvFwhVESubOR",
        "outputId": "94e29744-34ba-4d46-c1f5-ae93bfd0c04c"
      },
      "id": "vvFwhVESubOR",
      "execution_count": null,
      "outputs": [
        {
          "output_type": "stream",
          "name": "stdout",
          "text": [
            "📂 Carpetas por clase creadas.\n"
          ]
        }
      ]
    },
    {
      "cell_type": "code",
      "source": [
        "# 📤 Mover imágenes a carpetas por clase\n",
        "moved = 0\n",
        "for _, row in df.iterrows():\n",
        "    image_file = row['image_id'] + \".jpg\"\n",
        "    src = os.path.join(base_dir, image_file)\n",
        "    dst = os.path.join(base_dir, row['dx'], image_file)\n",
        "    if os.path.exists(src):\n",
        "        shutil.move(src, dst)\n",
        "        moved += 1\n",
        "\n",
        "print(f\"✅ Se movieron {moved} imágenes a sus carpetas por clase.\")\n"
      ],
      "metadata": {
        "colab": {
          "base_uri": "https://localhost:8080/"
        },
        "id": "bud1qzsSucuz",
        "outputId": "b751cc2b-fb12-4c30-fe6f-81ee1902313e"
      },
      "id": "bud1qzsSucuz",
      "execution_count": null,
      "outputs": [
        {
          "output_type": "stream",
          "name": "stdout",
          "text": [
            "✅ Se movieron 10015 imágenes a sus carpetas por clase.\n"
          ]
        }
      ]
    },
    {
      "cell_type": "code",
      "source": [
        "# 📊 Verificar organización final\n",
        "for folder in sorted(os.listdir(base_dir)):\n",
        "    path = os.path.join(base_dir, folder)\n",
        "    if os.path.isdir(path):\n",
        "        print(f\"{folder}: {len(os.listdir(path))} imágenes\")\n"
      ],
      "metadata": {
        "colab": {
          "base_uri": "https://localhost:8080/"
        },
        "id": "nrOaJDz4ueot",
        "outputId": "e78f7683-5536-437d-ae93-9b8d95a9d04f"
      },
      "id": "nrOaJDz4ueot",
      "execution_count": null,
      "outputs": [
        {
          "output_type": "stream",
          "name": "stdout",
          "text": [
            "akiec: 327 imágenes\n",
            "bcc: 514 imágenes\n",
            "bkl: 1099 imágenes\n",
            "df: 115 imágenes\n",
            "mel: 1113 imágenes\n",
            "nv: 6705 imágenes\n",
            "vasc: 142 imágenes\n"
          ]
        }
      ]
    }
  ],
  "metadata": {
    "colab": {
      "provenance": [],
      "include_colab_link": true
    },
    "language_info": {
      "name": "python"
    },
    "kernelspec": {
      "name": "python3",
      "display_name": "Python 3"
    }
  },
  "nbformat": 4,
  "nbformat_minor": 5
}